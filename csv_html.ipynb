{
 "cells": [
  {
   "cell_type": "code",
   "execution_count": 1,
   "metadata": {},
   "outputs": [],
   "source": [
    "# Dependencies and Setup\n",
    "import pandas as pd"
   ]
  },
  {
   "cell_type": "code",
   "execution_count": 2,
   "metadata": {},
   "outputs": [],
   "source": [
    "# File to Load (Remember to Change These)\n",
    "cities_data = \"Resources/cities.csv\""
   ]
  },
  {
   "cell_type": "code",
   "execution_count": 3,
   "metadata": {},
   "outputs": [],
   "source": [
    "city_data = pd.read_csv(cities_data)"
   ]
  },
  {
   "cell_type": "code",
   "execution_count": 4,
   "metadata": {},
   "outputs": [
    {
     "data": {
      "text/html": [
       "<div>\n",
       "<style scoped>\n",
       "    .dataframe tbody tr th:only-of-type {\n",
       "        vertical-align: middle;\n",
       "    }\n",
       "\n",
       "    .dataframe tbody tr th {\n",
       "        vertical-align: top;\n",
       "    }\n",
       "\n",
       "    .dataframe thead th {\n",
       "        text-align: right;\n",
       "    }\n",
       "</style>\n",
       "<table border=\"1\" class=\"dataframe\">\n",
       "  <thead>\n",
       "    <tr style=\"text-align: right;\">\n",
       "      <th></th>\n",
       "      <th>City</th>\n",
       "      <th>Lat</th>\n",
       "      <th>Lng</th>\n",
       "      <th>Max Temp</th>\n",
       "      <th>Humidity</th>\n",
       "      <th>Cloudiness</th>\n",
       "      <th>Wind Speed</th>\n",
       "      <th>Country</th>\n",
       "      <th>Date</th>\n",
       "    </tr>\n",
       "  </thead>\n",
       "  <tbody>\n",
       "    <tr>\n",
       "      <th>0</th>\n",
       "      <td>qaanaaq</td>\n",
       "      <td>77.48</td>\n",
       "      <td>-69.36</td>\n",
       "      <td>41.81</td>\n",
       "      <td>65</td>\n",
       "      <td>4</td>\n",
       "      <td>2.04</td>\n",
       "      <td>GL</td>\n",
       "      <td>1595751081</td>\n",
       "    </tr>\n",
       "    <tr>\n",
       "      <th>1</th>\n",
       "      <td>butaritari</td>\n",
       "      <td>3.07</td>\n",
       "      <td>172.79</td>\n",
       "      <td>83.34</td>\n",
       "      <td>73</td>\n",
       "      <td>0</td>\n",
       "      <td>18.59</td>\n",
       "      <td>KI</td>\n",
       "      <td>1595751083</td>\n",
       "    </tr>\n",
       "    <tr>\n",
       "      <th>2</th>\n",
       "      <td>ushuaia</td>\n",
       "      <td>-54.80</td>\n",
       "      <td>-68.30</td>\n",
       "      <td>28.40</td>\n",
       "      <td>92</td>\n",
       "      <td>75</td>\n",
       "      <td>9.17</td>\n",
       "      <td>AR</td>\n",
       "      <td>1595751085</td>\n",
       "    </tr>\n",
       "    <tr>\n",
       "      <th>3</th>\n",
       "      <td>yar-sale</td>\n",
       "      <td>66.83</td>\n",
       "      <td>70.83</td>\n",
       "      <td>60.48</td>\n",
       "      <td>64</td>\n",
       "      <td>100</td>\n",
       "      <td>12.30</td>\n",
       "      <td>RU</td>\n",
       "      <td>1595751087</td>\n",
       "    </tr>\n",
       "    <tr>\n",
       "      <th>4</th>\n",
       "      <td>acajutla</td>\n",
       "      <td>13.59</td>\n",
       "      <td>-89.83</td>\n",
       "      <td>71.01</td>\n",
       "      <td>99</td>\n",
       "      <td>100</td>\n",
       "      <td>4.70</td>\n",
       "      <td>SV</td>\n",
       "      <td>1595751089</td>\n",
       "    </tr>\n",
       "  </tbody>\n",
       "</table>\n",
       "</div>"
      ],
      "text/plain": [
       "         City    Lat     Lng  Max Temp  Humidity  Cloudiness  Wind Speed  \\\n",
       "0     qaanaaq  77.48  -69.36     41.81        65           4        2.04   \n",
       "1  butaritari   3.07  172.79     83.34        73           0       18.59   \n",
       "2     ushuaia -54.80  -68.30     28.40        92          75        9.17   \n",
       "3    yar-sale  66.83   70.83     60.48        64         100       12.30   \n",
       "4    acajutla  13.59  -89.83     71.01        99         100        4.70   \n",
       "\n",
       "  Country        Date  \n",
       "0      GL  1595751081  \n",
       "1      KI  1595751083  \n",
       "2      AR  1595751085  \n",
       "3      RU  1595751087  \n",
       "4      SV  1595751089  "
      ]
     },
     "execution_count": 4,
     "metadata": {},
     "output_type": "execute_result"
    }
   ],
   "source": [
    "city_data.head()"
   ]
  },
  {
   "cell_type": "code",
   "execution_count": 5,
   "metadata": {},
   "outputs": [],
   "source": [
    "# Convert csv to html without index column\n",
    "city_data.to_html(\"cities.html\", index=False)"
   ]
  },
  {
   "cell_type": "code",
   "execution_count": null,
   "metadata": {},
   "outputs": [],
   "source": []
  }
 ],
 "metadata": {
  "kernelspec": {
   "display_name": "PythonData",
   "language": "python",
   "name": "pythondata"
  },
  "language_info": {
   "codemirror_mode": {
    "name": "ipython",
    "version": 3
   },
   "file_extension": ".py",
   "mimetype": "text/x-python",
   "name": "python",
   "nbconvert_exporter": "python",
   "pygments_lexer": "ipython3",
   "version": "3.6.10"
  }
 },
 "nbformat": 4,
 "nbformat_minor": 4
}
